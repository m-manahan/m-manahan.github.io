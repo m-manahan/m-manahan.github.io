{
 "cells": [
  {
   "cell_type": "code",
   "execution_count": 15,
   "metadata": {},
   "outputs": [],
   "source": [
    "#web scraping homework\n",
    "#<div class=\"content_title\"><a href=\"/news/8370/opportunity-emerges-in-a-dusty-picture/\" target=\"_self\">Opportunity Emerges in a Dusty Picture</a></div>"
   ]
  },
  {
   "cell_type": "code",
   "execution_count": 16,
   "metadata": {},
   "outputs": [],
   "source": [
    "# Dependencies\n",
    "from bs4 import BeautifulSoup\n",
    "import requests\n",
    "import os\n",
    "from splinter import Browser"
   ]
  },
  {
   "cell_type": "code",
   "execution_count": 17,
   "metadata": {},
   "outputs": [],
   "source": [
    "#NASA Mars News"
   ]
  },
  {
   "cell_type": "code",
   "execution_count": 18,
   "metadata": {},
   "outputs": [],
   "source": [
    "executable_path = {'executable_path': 'chromedriver.exe'} #use the chrome driver\n",
    "browser = Browser('chrome', **executable_path, headless=False)"
   ]
  },
  {
   "cell_type": "code",
   "execution_count": null,
   "metadata": {},
   "outputs": [],
   "source": []
  },
  {
   "cell_type": "code",
   "execution_count": 19,
   "metadata": {},
   "outputs": [],
   "source": [
    "url = 'https://mars.nasa.gov/news/?page=0&per_page=40&order=publish_date+desc%2Ccreated_at+desc&search=&category=19%2C165%2C184%2C204&blank_scope=Latest'\n",
    "browser.visit(url) #pointing to the NASA Mars News website"
   ]
  },
  {
   "cell_type": "code",
   "execution_count": 20,
   "metadata": {},
   "outputs": [],
   "source": [
    "html = browser.html #variable to hold the browser's html"
   ]
  },
  {
   "cell_type": "code",
   "execution_count": 21,
   "metadata": {},
   "outputs": [],
   "source": [
    "# Create BeautifulSoup object; parse with 'html.parser'\n",
    "soup = BeautifulSoup(html, 'html.parser')\n",
    "#soup"
   ]
  },
  {
   "cell_type": "code",
   "execution_count": 22,
   "metadata": {},
   "outputs": [],
   "source": [
    "title = soup.find(\"div\", class_ = 'content_title') #searching for the title "
   ]
  },
  {
   "cell_type": "code",
   "execution_count": 23,
   "metadata": {},
   "outputs": [
    {
     "name": "stdout",
     "output_type": "stream",
     "text": [
      "Opportunity Emerges in a Dusty Picture\n"
     ]
    }
   ],
   "source": [
    "news_title = title.text #print out the title\n",
    "print(news_title)"
   ]
  },
  {
   "cell_type": "code",
   "execution_count": 24,
   "metadata": {},
   "outputs": [
    {
     "name": "stdout",
     "output_type": "stream",
     "text": [
      "NASA still hasn't heard from the Opportunity rover, but at least the agency can see it again.\n"
     ]
    }
   ],
   "source": [
    "news_p = soup.find(\"div\", class_ = 'article_teaser_body') #search for paragraph and print out\n",
    "news_p = news_p.text\n",
    "print(news_p)"
   ]
  },
  {
   "cell_type": "code",
   "execution_count": 25,
   "metadata": {},
   "outputs": [],
   "source": [
    "#JPL Mars Space Images - Featured Image"
   ]
  },
  {
   "cell_type": "code",
   "execution_count": 26,
   "metadata": {},
   "outputs": [],
   "source": [
    "url = 'https://www.jpl.nasa.gov/spaceimages/?search=&category=Mars'\n",
    "browser.visit(url) #pointing to the JPL Mars images\n",
    "html = browser.html #variable to hold the browser's html"
   ]
  },
  {
   "cell_type": "code",
   "execution_count": 27,
   "metadata": {},
   "outputs": [],
   "source": [
    "# Create BeautifulSoup object; parse with 'html.parser'\n",
    "soup = BeautifulSoup(html, 'html.parser')\n",
    "browser.click_link_by_partial_text('FULL IMAGE')\n"
   ]
  },
  {
   "cell_type": "code",
   "execution_count": 28,
   "metadata": {},
   "outputs": [],
   "source": [
    "html = browser.html\n",
    "soup = BeautifulSoup(html, 'html.parser')"
   ]
  },
  {
   "cell_type": "code",
   "execution_count": 29,
   "metadata": {},
   "outputs": [],
   "source": [
    "browser.click_link_by_partial_text('more info')"
   ]
  },
  {
   "cell_type": "code",
   "execution_count": 30,
   "metadata": {},
   "outputs": [],
   "source": [
    "html = browser.html\n",
    "soup = BeautifulSoup(html, 'html.parser')"
   ]
  },
  {
   "cell_type": "code",
   "execution_count": 31,
   "metadata": {},
   "outputs": [],
   "source": [
    "feature_image = soup.find(\"figure\", class_ = 'lede').findAll('img') #one way of searching for the image"
   ]
  },
  {
   "cell_type": "code",
   "execution_count": 32,
   "metadata": {},
   "outputs": [
    {
     "name": "stdout",
     "output_type": "stream",
     "text": [
      "[<img alt=\"A star's spectacular death in the constellation Taurus was observed on Earth as the supernova of 1054 A.D. This composite image uses data from three of NASA's Great Observatories. The Chandra X-ray, Hubble Space, and Spitzer Space Telescope.\" class=\"main_image\" src=\"/spaceimages/images/largesize/PIA01320_hires.jpg\" title=\"A star's spectacular death in the constellation Taurus was observed on Earth as the supernova of 1054 A.D. This composite image uses data from three of NASA's Great Observatories. The Chandra X-ray, Hubble Space, and Spitzer Space Telescope.\"/>]\n"
     ]
    }
   ],
   "source": [
    "print(feature_image)"
   ]
  },
  {
   "cell_type": "code",
   "execution_count": 33,
   "metadata": {},
   "outputs": [],
   "source": [
    "pic = soup.find(\"img\", class_ = \"main_image\")"
   ]
  },
  {
   "cell_type": "code",
   "execution_count": 34,
   "metadata": {},
   "outputs": [
    {
     "data": {
      "text/plain": [
       "<img alt=\"A star's spectacular death in the constellation Taurus was observed on Earth as the supernova of 1054 A.D. This composite image uses data from three of NASA's Great Observatories. The Chandra X-ray, Hubble Space, and Spitzer Space Telescope.\" class=\"main_image\" src=\"/spaceimages/images/largesize/PIA01320_hires.jpg\" title=\"A star's spectacular death in the constellation Taurus was observed on Earth as the supernova of 1054 A.D. This composite image uses data from three of NASA's Great Observatories. The Chandra X-ray, Hubble Space, and Spitzer Space Telescope.\"/>"
      ]
     },
     "execution_count": 34,
     "metadata": {},
     "output_type": "execute_result"
    }
   ],
   "source": [
    "pic"
   ]
  },
  {
   "cell_type": "code",
   "execution_count": 37,
   "metadata": {},
   "outputs": [
    {
     "name": "stdout",
     "output_type": "stream",
     "text": [
      "/spaceimages/images/largesize/PIA01320_hires.jpg\n"
     ]
    }
   ],
   "source": [
    "feature_image_url = pic['src']\n",
    "print(feature_pic)"
   ]
  },
  {
   "cell_type": "code",
   "execution_count": 41,
   "metadata": {},
   "outputs": [],
   "source": [
    "featured_image_url = pic['src']"
   ]
  },
  {
   "cell_type": "code",
   "execution_count": 42,
   "metadata": {},
   "outputs": [
    {
     "data": {
      "text/plain": [
       "'/spaceimages/images/largesize/PIA01320_hires.jpg'"
      ]
     },
     "execution_count": 42,
     "metadata": {},
     "output_type": "execute_result"
    }
   ],
   "source": [
    "featured_image_url "
   ]
  },
  {
   "cell_type": "code",
   "execution_count": 45,
   "metadata": {},
   "outputs": [
    {
     "data": {
      "text/plain": [
       "'https://www.jpl.nasa.gov'"
      ]
     },
     "execution_count": 45,
     "metadata": {},
     "output_type": "execute_result"
    }
   ],
   "source": [
    "home_url = str('https://www.jpl.nasa.gov')\n",
    "home_url"
   ]
  },
  {
   "cell_type": "code",
   "execution_count": 46,
   "metadata": {},
   "outputs": [],
   "source": [
    "featured_image_url = home_url + featured_image_url "
   ]
  },
  {
   "cell_type": "code",
   "execution_count": 47,
   "metadata": {},
   "outputs": [
    {
     "data": {
      "text/plain": [
       "'https://www.jpl.nasa.gov/spaceimages/images/largesize/PIA01320_hires.jpg'"
      ]
     },
     "execution_count": 47,
     "metadata": {},
     "output_type": "execute_result"
    }
   ],
   "source": [
    "featured_image_url"
   ]
  },
  {
   "cell_type": "code",
   "execution_count": null,
   "metadata": {},
   "outputs": [],
   "source": [
    "#Twitter Page"
   ]
  },
  {
   "cell_type": "code",
   "execution_count": 48,
   "metadata": {},
   "outputs": [],
   "source": [
    "url = 'https://twitter.com/marswxreport?lang=en'\n",
    "browser.visit(url)\n",
    "html = browser.html #variable to hold the browser's html\n",
    "soup = BeautifulSoup(html, 'html.parser')"
   ]
  },
  {
   "cell_type": "code",
   "execution_count": null,
   "metadata": {},
   "outputs": [],
   "source": [
    "#<p class=\"TweetTextSize TweetTextSize--normal js-tweet-text tweet-text\" lang=\"en\""
   ]
  },
  {
   "cell_type": "code",
   "execution_count": 52,
   "metadata": {},
   "outputs": [],
   "source": [
    "weather_tweet = soup.find_all(\"p\", class_ =\"TweetTextSize TweetTextSize--normal js-tweet-text tweet-text\")"
   ]
  },
  {
   "cell_type": "code",
   "execution_count": 54,
   "metadata": {},
   "outputs": [
    {
     "data": {
      "text/plain": [
       "<p class=\"TweetTextSize TweetTextSize--normal js-tweet-text tweet-text\" data-aria-label-part=\"0\" lang=\"en\">I’m 60 days from landing on <a class=\"twitter-hashtag pretty-link js-nav\" data-query-source=\"hashtag_click\" dir=\"ltr\" href=\"/hashtag/Mars?src=hash\"><s>#</s><b>Mars</b></a>! To ensure my successful Entry, Descent and Landing (EDL), my team begins intensive preparations during the “approach” phase. This happens to be the phase I’m entering right now <img alt=\"🚀\" aria-label=\"Emoji: Rocket\" class=\"Emoji Emoji--forText\" draggable=\"false\" src=\"https://abs.twimg.com/emoji/v2/72x72/1f680.png\" title=\"Rocket\"/> More: <a class=\"twitter-timeline-link\" data-expanded-url=\"http://go.nasa.gov/2DEAjOl\" dir=\"ltr\" href=\"https://t.co/VN0RnUQxZo\" rel=\"nofollow noopener\" target=\"_blank\" title=\"http://go.nasa.gov/2DEAjOl\"><span class=\"tco-ellipsis\"></span><span class=\"invisible\">http://</span><span class=\"js-display-url\">go.nasa.gov/2DEAjOl</span><span class=\"invisible\"></span><span class=\"tco-ellipsis\"><span class=\"invisible\"> </span></span></a><a class=\"twitter-timeline-link u-hidden\" data-pre-embedded=\"true\" dir=\"ltr\" href=\"https://t.co/8hrnNiriGi\">pic.twitter.com/8hrnNiriGi</a></p>"
      ]
     },
     "execution_count": 54,
     "metadata": {},
     "output_type": "execute_result"
    }
   ],
   "source": [
    "weather_tweet[0]\n"
   ]
  },
  {
   "cell_type": "code",
   "execution_count": 68,
   "metadata": {},
   "outputs": [
    {
     "data": {
      "text/plain": [
       "'Sol 2171 (2018-09-14), high -12C/10F, low -65C/-84F, pressure at 8.79 hPa, daylight 05:43-17:59'"
      ]
     },
     "execution_count": 68,
     "metadata": {},
     "output_type": "execute_result"
    }
   ],
   "source": [
    "weather_tweet[5].text\n",
    "weather_info = []"
   ]
  },
  {
   "cell_type": "code",
   "execution_count": 80,
   "metadata": {},
   "outputs": [
    {
     "name": "stdout",
     "output_type": "stream",
     "text": [
      "Not a weather tweet!\n",
      "Not a weather tweet!\n",
      "Not a weather tweet!\n",
      "Not a weather tweet!\n",
      "Not a weather tweet!\n",
      "This is a weather tweet!\n",
      "This is a weather tweet!\n",
      "This is a weather tweet!\n",
      "This is a weather tweet!\n",
      "This is a weather tweet!\n",
      "Not a weather tweet!\n",
      "This is a weather tweet!\n",
      "Not a weather tweet!\n",
      "This is a weather tweet!\n",
      "This is a weather tweet!\n",
      "This is a weather tweet!\n",
      "Not a weather tweet!\n",
      "This is a weather tweet!\n",
      "Not a weather tweet!\n",
      "This is a weather tweet!\n"
     ]
    }
   ],
   "source": [
    "array_len = len(weather_tweet)\n",
    "x = 0\n",
    "for text in weather_tweet:\n",
    "    text = weather_tweet[x].text\n",
    "    if text.find(\"hPa\") == -1:     #if the tweet contains the string hPa then it is a weather tweet\n",
    "        print(\"Not a weather tweet!\")\n",
    "    else:\n",
    "        print(\"This is a weather tweet!\")\n",
    "        \n",
    "    \n",
    "    x += 1"
   ]
  },
  {
   "cell_type": "code",
   "execution_count": null,
   "metadata": {},
   "outputs": [],
   "source": [
    "print(weather_tweet[x].text)"
   ]
  },
  {
   "cell_type": "code",
   "execution_count": 95,
   "metadata": {},
   "outputs": [
    {
     "data": {
      "text/plain": [
       "<p class=\"TweetTextSize TweetTextSize--normal js-tweet-text tweet-text\" data-aria-label-part=\"0\" lang=\"en\">Sol 2161 (2018-09-04), high -5C/23F, low -68C/-90F, pressure at 8.84 hPa, daylight 05:37-17:53</p>"
      ]
     },
     "execution_count": 95,
     "metadata": {},
     "output_type": "execute_result"
    }
   ],
   "source": [
    "weather_tweet[19]"
   ]
  },
  {
   "cell_type": "code",
   "execution_count": null,
   "metadata": {},
   "outputs": [],
   "source": []
  }
 ],
 "metadata": {
  "kernelspec": {
   "display_name": "Python 3",
   "language": "python",
   "name": "python3"
  },
  "language_info": {
   "codemirror_mode": {
    "name": "ipython",
    "version": 3
   },
   "file_extension": ".py",
   "mimetype": "text/x-python",
   "name": "python",
   "nbconvert_exporter": "python",
   "pygments_lexer": "ipython3",
   "version": "3.6.5"
  }
 },
 "nbformat": 4,
 "nbformat_minor": 2
}
